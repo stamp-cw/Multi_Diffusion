{
 "cells": [
  {
   "cell_type": "code",
   "execution_count": 3,
   "id": "ac3f8743-550c-4ecd-9c08-f5e855f2a845",
   "metadata": {},
   "outputs": [],
   "source": [
    "import torch_fidelity"
   ]
  },
  {
   "cell_type": "code",
   "execution_count": 4,
   "id": "7ddf7793-cce7-41ab-99ef-848544dc0343",
   "metadata": {},
   "outputs": [],
   "source": [
    "def calc_fid(real_img_dir,gen_img_dir):\n",
    "    # compute FID\n",
    "    # real_img_dir = r\"./data/CIFAR_REAL\"\n",
    "    # gen_img_dir = r\"./data/CIFAR_sigmoid\"\n",
    "    metrics_dict = torch_fidelity.calculate_metrics(\n",
    "        input1=real_img_dir,\n",
    "        input2=gen_img_dir,\n",
    "        cuda=True,\n",
    "        fid=True,\n",
    "        #kid=True,\n",
    "        isc=True,\n",
    "        verbose=True,\n",
    "    )\n",
    "    print(metrics_dict)"
   ]
  },
  {
   "cell_type": "code",
   "execution_count": null,
   "id": "6a776ba5-2461-4caa-b67b-4687dfa6c19d",
   "metadata": {},
   "outputs": [],
   "source": [
    "calc_fid('/home/featurize/Multi_Diffusion/data/fid/real','/home/featurize/Multi_Diffusion/data/fid/gen')"
   ]
  },
  {
   "cell_type": "code",
   "execution_count": 7,
   "id": "17b6e638-fa3e-459a-8fbd-ffa481393984",
   "metadata": {},
   "outputs": [
    {
     "name": "stderr",
     "output_type": "stream",
     "text": [
      "Creating feature extractor \"inception-v3-compat\" with features ['logits_unbiased', '2048']\n",
      "Extracting features from input1\n",
      "Looking for samples non-recursivelty in \"/home/featurize/Multi_Diffusion/data/fid_ogama/real\" with extensions png,jpg,jpeg\n",
      "Found 100 samples\n",
      "Processing samples                                                        \n",
      "Extracting features from input2\n",
      "Looking for samples non-recursivelty in \"/home/featurize/Multi_Diffusion/data/fid_ogama/gen\" with extensions png,jpg,jpeg\n",
      "Found 100 samples\n",
      "Processing samples                                                        \n",
      "Inception Score: 1.8233398366195281 ± 0.16745608443300336\n"
     ]
    },
    {
     "name": "stdout",
     "output_type": "stream",
     "text": [
      "{'inception_score_mean': 1.8233398366195281, 'inception_score_std': 0.16745608443300336, 'frechet_inception_distance': 231.14853444828486}\n"
     ]
    },
    {
     "name": "stderr",
     "output_type": "stream",
     "text": [
      "Frechet Inception Distance: 231.14853444828486\n"
     ]
    }
   ],
   "source": [
    "calc_fid('/home/featurize/Multi_Diffusion/data/fid_ogamma/real','/home/featurize/Multi_Diffusion/data/fid_ogamma/gen')"
   ]
  },
  {
   "cell_type": "code",
   "execution_count": 8,
   "id": "dc793358-d675-4c8a-96f6-2328cc96fcc4",
   "metadata": {},
   "outputs": [
    {
     "name": "stderr",
     "output_type": "stream",
     "text": [
      "Creating feature extractor \"inception-v3-compat\" with features ['logits_unbiased', '2048']\n",
      "Extracting features from input1\n",
      "Looking for samples non-recursivelty in \"/home/featurize/Multi_Diffusion/data/fid_gaussian/real\" with extensions png,jpg,jpeg\n",
      "Found 100 samples\n",
      "Processing samples                                                        \n",
      "Extracting features from input2\n",
      "Looking for samples non-recursivelty in \"/home/featurize/Multi_Diffusion/data/fid_gaussian/gen\" with extensions png,jpg,jpeg\n",
      "Found 100 samples\n",
      "Processing samples                                                        \n",
      "Inception Score: 1.8467245232124152 ± 0.21263962171987566\n"
     ]
    },
    {
     "name": "stdout",
     "output_type": "stream",
     "text": [
      "{'inception_score_mean': 1.8467245232124152, 'inception_score_std': 0.21263962171987566, 'frechet_inception_distance': 134.01035146970713}\n"
     ]
    },
    {
     "name": "stderr",
     "output_type": "stream",
     "text": [
      "Frechet Inception Distance: 134.01035146970713\n"
     ]
    }
   ],
   "source": [
    "calc_fid('/home/featurize/Multi_Diffusion/data/fid_gaussian/real','/home/featurize/Multi_Diffusion/data/fid_gaussian/gen')"
   ]
  },
  {
   "cell_type": "code",
   "execution_count": 9,
   "id": "8c29a804-1103-444a-9c25-c6f49e0ae472",
   "metadata": {},
   "outputs": [
    {
     "name": "stderr",
     "output_type": "stream",
     "text": [
      "Creating feature extractor \"inception-v3-compat\" with features ['logits_unbiased', '2048']\n",
      "Extracting features from input1\n",
      "Looking for samples non-recursivelty in \"/home/featurize/Multi_Diffusion/data/fid_ogamma_10/real\" with extensions png,jpg,jpeg\n",
      "Found 100 samples\n",
      "Processing samples                                                        \n",
      "Extracting features from input2\n",
      "Looking for samples non-recursivelty in \"/home/featurize/Multi_Diffusion/data/fid_ogamma_10/gen\" with extensions png,jpg,jpeg\n",
      "Found 100 samples\n",
      "Processing samples                                                        \n",
      "Inception Score: 1.983291446922961 ± 0.16906528185362324\n"
     ]
    },
    {
     "name": "stdout",
     "output_type": "stream",
     "text": [
      "{'inception_score_mean': 1.983291446922961, 'inception_score_std': 0.16906528185362324, 'frechet_inception_distance': 118.76556921785647}\n"
     ]
    },
    {
     "name": "stderr",
     "output_type": "stream",
     "text": [
      "Frechet Inception Distance: 118.76556921785647\n"
     ]
    }
   ],
   "source": [
    "calc_fid('/home/featurize/Multi_Diffusion/data/fid_ogamma_10/real','/home/featurize/Multi_Diffusion/data/fid_ogamma_10/gen')"
   ]
  },
  {
   "cell_type": "code",
   "execution_count": 10,
   "id": "b9882342-2ce9-4677-b117-cf17c14bf6e9",
   "metadata": {},
   "outputs": [
    {
     "name": "stderr",
     "output_type": "stream",
     "text": [
      "Creating feature extractor \"inception-v3-compat\" with features ['logits_unbiased', '2048']\n",
      "Extracting features from input1\n",
      "Looking for samples non-recursivelty in \"/home/featurize/Multi_Diffusion/data/fid_gaussian_10/real\" with extensions png,jpg,jpeg\n",
      "Found 100 samples\n",
      "Processing samples                                                         \n",
      "Extracting features from input2\n",
      "Looking for samples non-recursivelty in \"/home/featurize/Multi_Diffusion/data/fid_gaussian_10/gen\" with extensions png,jpg,jpeg\n",
      "Found 100 samples\n",
      "Processing samples                                                        \n",
      "Inception Score: 1.8671536572050407 ± 0.19441675395659155\n"
     ]
    },
    {
     "name": "stdout",
     "output_type": "stream",
     "text": [
      "{'inception_score_mean': 1.8671536572050407, 'inception_score_std': 0.19441675395659155, 'frechet_inception_distance': 73.5484759617747}\n"
     ]
    },
    {
     "name": "stderr",
     "output_type": "stream",
     "text": [
      "Frechet Inception Distance: 73.5484759617747\n"
     ]
    }
   ],
   "source": [
    "calc_fid('/home/featurize/Multi_Diffusion/data/fid_gaussian_10/real','/home/featurize/Multi_Diffusion/data/fid_gaussian_10/gen')"
   ]
  },
  {
   "cell_type": "code",
   "execution_count": null,
   "id": "24b17ba6-372b-4515-8a8c-de471414a4d3",
   "metadata": {},
   "outputs": [],
   "source": []
  }
 ],
 "metadata": {
  "kernelspec": {
   "display_name": "Python 3 (ipykernel)",
   "language": "python",
   "name": "python3"
  },
  "language_info": {
   "codemirror_mode": {
    "name": "ipython",
    "version": 3
   },
   "file_extension": ".py",
   "mimetype": "text/x-python",
   "name": "python",
   "nbconvert_exporter": "python",
   "pygments_lexer": "ipython3",
   "version": "3.11.8"
  }
 },
 "nbformat": 4,
 "nbformat_minor": 5
}
